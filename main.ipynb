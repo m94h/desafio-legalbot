{
 "cells": [
  {
   "cell_type": "code",
   "execution_count": 1,
   "metadata": {},
   "outputs": [],
   "source": [
    "# Import modules\n",
    "from nltk.stem.snowball import SnowballStemmer\n",
    "from nltk.corpus import stopwords\n",
    "from nltk.tokenize import RegexpTokenizer\n",
    "from gensim.corpora import Dictionary\n",
    "from gensim.models.ldamodel import LdaModel\n",
    "from gensim.models import CoherenceModel\n",
    "import random\n",
    "random.seed(82)\n",
    "\n",
    "# Plotting tools\n",
    "import pyLDAvis\n",
    "import pyLDAvis.gensim  # don't skip this\n",
    "import matplotlib.pyplot as plt\n",
    "%matplotlib inline"
   ]
  },
  {
   "cell_type": "code",
   "execution_count": 2,
   "metadata": {},
   "outputs": [],
   "source": [
    "# Read objetos.txt into list\n",
    "filename = 'objetos.txt'\n",
    "f = open(filename, 'r')\n",
    "lines = f.readlines()\n",
    "f.close()"
   ]
  },
  {
   "cell_type": "code",
   "execution_count": 3,
   "metadata": {},
   "outputs": [],
   "source": [
    "# Process text\n",
    "\n",
    "# Tokenize\n",
    "tokenizer = RegexpTokenizer(r'\\w+')\n",
    "    \n",
    "lines_originals = []\n",
    "lines_processed = []\n",
    "for line in lines:\n",
    "    # Remove breaklines\n",
    "    if len(line) > 1:\n",
    "        # tokenize\n",
    "        lines_originals.append(line)\n",
    "        lines_processed.append(tokenizer.tokenize(line))\n",
    "        \n",
    "\n",
    "# For stemming we will use snowball as it allows to process spanish text\n",
    "# REF: https://www.datacamp.com/community/tutorials/stemming-lemmatization-python\n",
    "spanishStemmer = SnowballStemmer(\"spanish\")\n",
    "lines_processed = [[spanishStemmer.stem(word) for word in words] for words in lines_processed]\n",
    "\n",
    "# Remove stopwords\n",
    "spanishStopWords = stopwords.words('spanish')\n",
    "lines_processed = [[word for word in words if word not in spanishStopWords] for words in lines_processed]\n",
    "\n",
    "# Keep only words larger than 2 chars\n",
    "lines_processed = [[word for word in words if len(word) > 2] for words in lines_processed]\n"
   ]
  },
  {
   "cell_type": "code",
   "execution_count": 4,
   "metadata": {},
   "outputs": [
    {
     "name": "stdout",
     "output_type": "stream",
     "text": [
      "Total words: 4133\n",
      "Total words: 1006\n"
     ]
    }
   ],
   "source": [
    "# Create dictionary\n",
    "dictionary = Dictionary(lines_processed)\n",
    "print('Total words:', len(dictionary))\n",
    "\n",
    "# Keep words that appear at least 10 times and that not appear in more than half the documents\n",
    "dictionary.filter_extremes(no_below=10, no_above=0.5, keep_n=100000)\n",
    "print('Total words:', len(dictionary))\n"
   ]
  },
  {
   "cell_type": "code",
   "execution_count": 5,
   "metadata": {},
   "outputs": [],
   "source": [
    "# Create Corpus: Transform each document into bag of words\n",
    "bow_corpus = [dictionary.doc2bow(doc) for doc in lines_processed]\n"
   ]
  },
  {
   "cell_type": "code",
   "execution_count": 6,
   "metadata": {},
   "outputs": [
    {
     "data": {
      "image/png": "[encoded data removed]",
      "text/plain": [
       "<Figure size 432x288 with 1 Axes>"
      ]
     },
     "metadata": {
      "needs_background": "light"
     },
     "output_type": "display_data"
    },
    {
     "name": "stdout",
     "output_type": "stream",
     "text": [
      "Best model has 11 topics\n"
     ]
    }
   ],
   "source": [
    "# Make LDA Model and look for better number of topics between 5 and 20 using gensim's coherence score\n",
    "models = []\n",
    "\n",
    "for n_topics in range(5,30):\n",
    "    # Build model \n",
    "    lda_model = LdaModel(corpus=bow_corpus, id2word=dictionary, num_topics=n_topics,\n",
    "                        random_state=82, update_every=1, chunksize=100,\n",
    "                        passes=10, alpha='auto', per_word_topics=True)\n",
    "    # Check coherence\n",
    "    coherencemodel = CoherenceModel(model=lda_model, texts=lines_processed, dictionary=dictionary, coherence='c_v')\n",
    "    score = coherencemodel.get_coherence()\n",
    "\n",
    "    models.append({'n_topics': n_topics, 'model': lda_model, 'score': score})\n",
    "    \n",
    "# Plot results\n",
    "plt.plot([x['n_topics'] for x in models], [y['score'] for y in models])\n",
    "plt.xlabel(\"Number of Topics\")\n",
    "plt.ylabel(\"Coherence Score\")\n",
    "plt.show()\n",
    "\n",
    "# Sort models\n",
    "models = sorted(models, key = lambda i: i['score'],reverse=True)\n",
    "\n",
    "# Choose best model\n",
    "lda_model = models[0]['model']\n",
    "print('Best model has', models[0]['n_topics'], 'topics')"
   ]
  },
  {
   "cell_type": "code",
   "execution_count": null,
   "metadata": {
    "scrolled": true
   },
   "outputs": [],
   "source": [
    "# Print topic's top words\n",
    "for idx, topic in lda_model.print_topics(-1):\n",
    "    print('Topic: {} \\nWords: {}'.format(idx, topic))"
   ]
  },
  {
   "cell_type": "code",
   "execution_count": null,
   "metadata": {},
   "outputs": [],
   "source": [
    "# Visualize the topics\n",
    "pyLDAvis.enable_notebook()\n",
    "vis = pyLDAvis.gensim.prepare(lda_model, bow_corpus, dictionary)\n",
    "vis"
   ]
  },
  {
   "cell_type": "code",
   "execution_count": 7,
   "metadata": {},
   "outputs": [
    {
     "name": "stdout",
     "output_type": "stream",
     "text": [
      "---------------------\n",
      "Document # 592\n",
      "Óptica Venta de lentes con graduación, lentes de sol,lentes de contacto,taller y reparación ,consulta medica.\n",
      "\n",
      "0.145*\"servici\" + 0.097*\"dental\" + 0.090*\"medic\" + 0.087*\"prestacion\" + 0.061*\"medicin\" + 0.058*\"clinic\" + 0.049*\"beneficiari\" + 0.039*\"capacit\" + 0.026*\"tratamient\" + 0.025*\"educ\"\n",
      "\n",
      "\n",
      "\n",
      "---------------------\n",
      "Document # 3151\n",
      "Realizacion audiovisual y diseño web.\n",
      "\n",
      "0.056*\"event\" + 0.045*\"servici\" + 0.043*\"activ\" + 0.038*\"produccion\" + 0.038*\"public\" + 0.032*\"agricol\" + 0.031*\"organiz\" + 0.027*\"deport\" + 0.023*\"agenci\" + 0.021*\"cultiv\"\n",
      "\n",
      "\n",
      "\n",
      "---------------------\n",
      "Document # 2006\n",
      "Servicios de apoyo de insumos a la mineria.\n",
      "\n",
      "0.042*\"construccion\" + 0.029*\"ingeni\" + 0.027*\"obras\" + 0.027*\"realiz\" + 0.025*\"servici\" + 0.023*\"proyect\" + 0.022*\"inmobiliari\" + 0.022*\"contrat\" + 0.020*\"dig\" + 0.020*\"propi\"\n",
      "\n",
      "\n",
      "\n",
      "---------------------\n",
      "Document # 2068\n",
      "Elaboración de comida vegetariana y repostería.\n",
      "\n",
      "0.072*\"tod\" + 0.029*\"tip\" + 0.028*\"com\" + 0.025*\"relacion\" + 0.022*\"comercializ\" + 0.022*\"par\" + 0.020*\"import\" + 0.019*\"cualqui\" + 0.019*\"distribu\" + 0.019*\"clas\"\n",
      "\n",
      "\n",
      "\n",
      "---------------------\n",
      "Document # 1196\n",
      "SERVICIOS INFORMÁTICOS, ACT. EMPRESARIALES Y DE PROFESIONALES PRESTADAS A EMPRESAS N.C.P.\n",
      "\n",
      "0.241*\"activ\" + 0.197*\"servici\" + 0.102*\"profesional\" + 0.056*\"empresarial\" + 0.049*\"act\" + 0.047*\"empres\" + 0.036*\"asesor\" + 0.030*\"prest\" + 0.027*\"informat\" + 0.025*\"relacion\"\n",
      "\n",
      "\n",
      "\n"
     ]
    }
   ],
   "source": [
    "# Test checking topics of some documents\n",
    "\n",
    "# Get five random documents\n",
    "documents = random.sample(range(0, len(lines_processed)), 5)\n",
    "\n",
    "# Define function to get dominant topic\n",
    "def get_dominant_topic(bow):\n",
    "    topics, _, _ = lda_model[bow]\n",
    "    max_prob = 0\n",
    "    dominant = 0\n",
    "    for topic_number, prob in topics:\n",
    "        if prob >= max_prob:\n",
    "            dominant = topic_number\n",
    "            max_prob = prob\n",
    "    return dominant\n",
    "\n",
    "for document in documents:\n",
    "    print('---------------------')\n",
    "    print('Document #', document)\n",
    "    # Print original text\n",
    "    print(lines_originals[document])\n",
    "    # Print dominant topic\n",
    "    print(lda_model.print_topic(get_dominant_topic(bow_corpus[document])))\n",
    "    print('\\n\\n')\n"
   ]
  }
 ],
 "metadata": {
  "kernelspec": {
   "display_name": "Python 3",
   "language": "python",
   "name": "python3"
  },
  "language_info": {
   "codemirror_mode": {
    "name": "ipython",
    "version": 3
   },
   "file_extension": ".py",
   "mimetype": "text/x-python",
   "name": "python",
   "nbconvert_exporter": "python",
   "pygments_lexer": "ipython3",
   "version": "3.6.5"
  }
 },
 "nbformat": 4,
 "nbformat_minor": 2
}
